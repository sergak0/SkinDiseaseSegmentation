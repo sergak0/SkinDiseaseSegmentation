{
  "nbformat": 4,
  "nbformat_minor": 0,
  "metadata": {
    "colab": {
      "name": "SkinDiseaseSegmentation.ipynb",
      "provenance": []
    },
    "kernelspec": {
      "name": "python3",
      "display_name": "Python 3"
    },
    "accelerator": "GPU"
  },
  "cells": [
    {
      "cell_type": "code",
      "metadata": {
        "id": "5cPfxaxXR3IT",
        "colab_type": "code",
        "colab": {
          "base_uri": "https://localhost:8080/",
          "height": 121
        },
        "outputId": "249b8170-2636-4524-f9e7-722f0dc60dfe"
      },
      "source": [
        "from tensorflow.keras.models import Model # Импортируем модели keras: Model\n",
        "from tensorflow.keras.layers import Input, Conv2DTranspose, Add, concatenate, Activation, MaxPooling2D, Conv2D, BatchNormalization # Импортируем стандартные слои keras\n",
        "from tensorflow.keras import backend as K # Импортируем модуль backend keras'а\n",
        "from tensorflow.keras.optimizers import Adam # Импортируем оптимизатор Adam\n",
        "from tensorflow.keras import utils # Импортируем модуль utils библиотеки tensorflow.keras для получения OHE-представления\n",
        "from google.colab import files # Импортируем Модуль files для работы с файлами\n",
        "import matplotlib.pyplot as plt # Импортируем модуль pyplot библиотеки matplotlib для построения графиков\n",
        "from tensorflow.keras.preprocessing import image # Импортируем модуль image для работы с изображениями\n",
        "import numpy as np # Импортируем библиотеку numpy\n",
        "from sklearn.model_selection import train_test_split\n",
        "import time\n",
        "import random\n",
        "import cv2\n",
        "import os # Импортируем библиотеку os для раоты с фаловой системой\n",
        "from PIL import Image # импортируем модель Image для работы с изображениями\n",
        "import albumentations as A\n",
        "!pip install patool"
      ],
      "execution_count": 1,
      "outputs": [
        {
          "output_type": "stream",
          "text": [
            "Collecting patool\n",
            "\u001b[?25l  Downloading https://files.pythonhosted.org/packages/43/94/52243ddff508780dd2d8110964320ab4851134a55ab102285b46e740f76a/patool-1.12-py2.py3-none-any.whl (77kB)\n",
            "\r\u001b[K     |████▎                           | 10kB 19.8MB/s eta 0:00:01\r\u001b[K     |████████▌                       | 20kB 4.9MB/s eta 0:00:01\r\u001b[K     |████████████▊                   | 30kB 5.7MB/s eta 0:00:01\r\u001b[K     |█████████████████               | 40kB 6.8MB/s eta 0:00:01\r\u001b[K     |█████████████████████▏          | 51kB 5.4MB/s eta 0:00:01\r\u001b[K     |█████████████████████████▍      | 61kB 6.0MB/s eta 0:00:01\r\u001b[K     |█████████████████████████████▋  | 71kB 6.5MB/s eta 0:00:01\r\u001b[K     |████████████████████████████████| 81kB 4.5MB/s \n",
            "\u001b[?25hInstalling collected packages: patool\n",
            "Successfully installed patool-1.12\n"
          ],
          "name": "stdout"
        }
      ]
    },
    {
      "cell_type": "code",
      "metadata": {
        "id": "ujN-zT2sSsYo",
        "colab_type": "code",
        "colab": {}
      },
      "source": [
        "path = '/content/drive/My Drive/DATAS/База кожных заболеваний/'\n",
        "img_width = 192 # Ширина уменьшенной картинки \n",
        "img_height = 192 # Высота уменьшенной картинки \n",
        "directory = 'SkinDiseases/'"
      ],
      "execution_count": 2,
      "outputs": []
    },
    {
      "cell_type": "code",
      "metadata": {
        "id": "jZ6L8a7-R7Br",
        "colab_type": "code",
        "colab": {
          "base_uri": "https://localhost:8080/",
          "height": 170
        },
        "outputId": "cbcf7742-00f4-40e3-ba9c-089f9b065842"
      },
      "source": [
        "import patoolib\n",
        "if not os.path.exists('SkinDiseases') :\n",
        "  os.makedirs('SkinDiseases')\n",
        "patoolib.extract_archive(path + \"origin.rar\", outdir=\"SkinDiseases\")\n",
        "patoolib.extract_archive(path + \"segmentation.rar\", outdir=\"SkinDiseases\")"
      ],
      "execution_count": 3,
      "outputs": [
        {
          "output_type": "stream",
          "text": [
            "patool: Extracting /content/drive/My Drive/DATAS/База кожных заболеваний/origin.rar ...\n",
            "patool: running /usr/bin/unrar x -- \"/content/drive/My Drive/DATAS/База кожных заболеваний/origin.rar\"\n",
            "patool:     with cwd='SkinDiseases'\n",
            "patool: ... /content/drive/My Drive/DATAS/База кожных заболеваний/origin.rar extracted to `SkinDiseases'.\n",
            "patool: Extracting /content/drive/My Drive/DATAS/База кожных заболеваний/segmentation.rar ...\n",
            "patool: running /usr/bin/unrar x -- \"/content/drive/My Drive/DATAS/База кожных заболеваний/segmentation.rar\"\n",
            "patool:     with cwd='SkinDiseases'\n",
            "patool: ... /content/drive/My Drive/DATAS/База кожных заболеваний/segmentation.rar extracted to `SkinDiseases'.\n"
          ],
          "name": "stdout"
        },
        {
          "output_type": "execute_result",
          "data": {
            "application/vnd.google.colaboratory.intrinsic+json": {
              "type": "string"
            },
            "text/plain": [
              "'SkinDiseases'"
            ]
          },
          "metadata": {
            "tags": []
          },
          "execution_count": 3
        }
      ]
    },
    {
      "cell_type": "code",
      "metadata": {
        "id": "gIwhp5ppF6qy",
        "colab_type": "code",
        "colab": {}
      },
      "source": [
        "num_classes = len(os.listdir(directory + 'origin'))"
      ],
      "execution_count": 4,
      "outputs": []
    },
    {
      "cell_type": "code",
      "metadata": {
        "id": "DlbEbPX-Q8wB",
        "colab_type": "code",
        "colab": {}
      },
      "source": [
        "def rgbToohe(y, num_classes): \n",
        "  res = np.zeros((y.shape[0], y.shape[1], num_classes))\n",
        "  np.place(res[:, :, 0], y[:, :] == 0, 1)\n",
        "  np.place(res[:, :, 1], y[:, :] == 1, 1)\n",
        "  return res.astype('bool')"
      ],
      "execution_count": 5,
      "outputs": []
    },
    {
      "cell_type": "code",
      "metadata": {
        "id": "LV760c4ty--k",
        "colab_type": "code",
        "colab": {}
      },
      "source": [
        "def makeYtrain(Y) :\n",
        "  res = []\n",
        "  for j, i in enumerate(Y) :\n",
        "    res.append(rgbToohe(i, 2))\n",
        "    if (j % 1000 == 0) :\n",
        "      print(j)\n",
        "  return res"
      ],
      "execution_count": 6,
      "outputs": []
    },
    {
      "cell_type": "code",
      "metadata": {
        "id": "3pAFqvulWDaX",
        "colab_type": "code",
        "colab": {
          "base_uri": "https://localhost:8080/",
          "height": 50
        },
        "outputId": "0b6359a9-47d3-4b63-fb08-0bedb17f4fa6"
      },
      "source": [
        "X = []\n",
        "Y = []\n",
        "for name in os.listdir('SkinDiseases/origin') :\n",
        "  for filename in os.listdir('SkinDiseases/origin/' + name) :\n",
        "    img = cv2.resize(cv2.imread(directory + 'origin/' + name + '/' + filename), (img_height, img_width))\n",
        "    X.append(img.astype('uint8'))\n",
        "print('origin is ready')\n",
        "for name in os.listdir('SkinDiseases/segmentation') :\n",
        "  for filename in os.listdir('SkinDiseases/segmentation/' + name) :\n",
        "    img = cv2.resize(cv2.imread(directory + 'segmentation/' + name + '/' + filename, cv2.IMREAD_GRAYSCALE), (img_height, img_width))\n",
        "    img = 1 * img.astype('bool')\n",
        "    Y.append(img.astype('uint8'))\n",
        "print('segmentation is ready')"
      ],
      "execution_count": 7,
      "outputs": [
        {
          "output_type": "stream",
          "text": [
            "origin is ready\n",
            "segmentation is ready\n"
          ],
          "name": "stdout"
        }
      ]
    },
    {
      "cell_type": "markdown",
      "metadata": {
        "id": "Jjm_W5HZVyLE",
        "colab_type": "text"
      },
      "source": [
        "Augmentation\n"
      ]
    },
    {
      "cell_type": "code",
      "metadata": {
        "id": "952Lz8wxyfC9",
        "colab_type": "code",
        "colab": {}
      },
      "source": [
        "aug = A.Compose([\n",
        "    A.OneOf([\n",
        "        A.RandomSizedCrop(min_max_height=(50, 101), height=img_width, width=img_height, p=0.5),\n",
        "        A.PadIfNeeded(min_height=img_width, min_width=img_height, p=0.5)\n",
        "    ],p=1),\n",
        "    A.VerticalFlip(p=0.5),\n",
        "    A.RandomRotate90(p=0.5),\n",
        "    A.OneOf([\n",
        "        A.ElasticTransform(p=0.5, alpha=120, sigma=120 * 0.05, alpha_affine=120 * 0.03),\n",
        "        A.GridDistortion(p=0.5),\n",
        "        A.OpticalDistortion(distort_limit=1, shift_limit=0.5, p=1),\n",
        "    ], p=0.8)])\n",
        "\n",
        "random.seed(11)\n",
        "for i in range(len(X)) :\n",
        "  augmented = aug(image = X[i], mask = Y[i])\n",
        "\n",
        "  image_medium = augmented['image'].astype('uint8')\n",
        "  mask_medium = augmented['mask'].astype('uint8')\n",
        "\n",
        "  X.append(image_medium)\n",
        "  Y.append(mask_medium)\n",
        "X = np.array(X)"
      ],
      "execution_count": 8,
      "outputs": []
    },
    {
      "cell_type": "code",
      "metadata": {
        "id": "8HpHpNhVYYRu",
        "colab_type": "code",
        "colab": {
          "base_uri": "https://localhost:8080/",
          "height": 202
        },
        "outputId": "97636de9-6ef2-40d9-887b-b39dc5564a36"
      },
      "source": [
        "Y = makeYtrain(Y) "
      ],
      "execution_count": 9,
      "outputs": [
        {
          "output_type": "stream",
          "text": [
            "0\n",
            "1000\n",
            "2000\n",
            "3000\n",
            "4000\n",
            "5000\n",
            "6000\n",
            "7000\n",
            "8000\n",
            "9000\n",
            "10000\n"
          ],
          "name": "stdout"
        }
      ]
    },
    {
      "cell_type": "code",
      "metadata": {
        "id": "mmGWi21L8kqy",
        "colab_type": "code",
        "colab": {}
      },
      "source": [
        "Y = np.array(Y)"
      ],
      "execution_count": 10,
      "outputs": []
    },
    {
      "cell_type": "code",
      "metadata": {
        "id": "OwZPLA_fmPbT",
        "colab_type": "code",
        "colab": {
          "base_uri": "https://localhost:8080/",
          "height": 50
        },
        "outputId": "a8402f5d-7c62-4fb5-996c-575b464a1197"
      },
      "source": [
        "print(X.shape)\n",
        "print(Y.shape)"
      ],
      "execution_count": 11,
      "outputs": [
        {
          "output_type": "stream",
          "text": [
            "(10058, 192, 192, 3)\n",
            "(10058, 192, 192, 2)\n"
          ],
          "name": "stdout"
        }
      ]
    },
    {
      "cell_type": "code",
      "metadata": {
        "id": "yw--3ctws3fH",
        "colab_type": "code",
        "colab": {}
      },
      "source": [
        "np.random.seed(42)\n",
        "np.random.shuffle(X)\n",
        "np.random.shuffle(Y)"
      ],
      "execution_count": 12,
      "outputs": []
    },
    {
      "cell_type": "code",
      "metadata": {
        "id": "2IuGkHWwhDck",
        "colab_type": "code",
        "colab": {}
      },
      "source": [
        "def dice_coef(y_true, y_pred):\n",
        "    return (2. * K.sum(y_true * y_pred) + 1.) / (K.sum(y_true) + K.sum(y_pred) + 1.)"
      ],
      "execution_count": 13,
      "outputs": []
    },
    {
      "cell_type": "markdown",
      "metadata": {
        "id": "GSKF909jYTA3",
        "colab_type": "text"
      },
      "source": [
        "## Unet"
      ]
    },
    {
      "cell_type": "code",
      "metadata": {
        "id": "AVVKgNE6eTE6",
        "colab_type": "code",
        "colab": {}
      },
      "source": [
        "'''\n",
        "  Функция создания сети\n",
        "    Входные параметры:\n",
        "    - num_classes - количество классов\n",
        "    - input_shape - размерность карты сегментации\n",
        "'''\n",
        "def unet(num_classes = 3, input_shape= (88, 120, 3)):\n",
        "    img_input = Input(input_shape)                                         # Создаем входной слой с размерностью input_shape\n",
        "\n",
        "    # Block 1\n",
        "    x = Conv2D(64, (3, 3), padding='same', name='block1_conv1')(img_input) # Добавляем Conv2D-слой с 64-нейронами\n",
        "    x = BatchNormalization()(x)                                            # Добавляем слой BatchNormalization\n",
        "    x = Activation('relu')(x)                                              # Добавляем слой Activation\n",
        "\n",
        "    x = Conv2D(64, (3, 3), padding='same', name='block1_conv2')(x)         # Добавляем Conv2D-слой с 64-нейронами\n",
        "    x = BatchNormalization()(x)                                            # Добавляем слой BatchNormalization\n",
        "    block_1_out = Activation('relu')(x)                                    # Добавляем слой Activation и запоминаем в переменной block_1_out\n",
        "\n",
        "    x = MaxPooling2D()(block_1_out)                                        # Добавляем слой MaxPooling2D\n",
        "\n",
        "    # Block 2\n",
        "    x = Conv2D(128, (3, 3), padding='same', name='block2_conv1')(x)        # Добавляем Conv2D-слой с 128-нейронами\n",
        "    x = BatchNormalization()(x)                                            # Добавляем слой BatchNormalization\n",
        "    x = Activation('relu')(x)                                              # Добавляем слой Activation\n",
        "\n",
        "    x = Conv2D(128, (3, 3), padding='same', name='block2_conv2')(x)        # Добавляем Conv2D-слой с 128-нейронами\n",
        "    x = BatchNormalization()(x)                                            # Добавляем слой BatchNormalization\n",
        "    block_2_out = Activation('relu')(x)                                    # Добавляем слой Activation и запоминаем в переменной block_2_out\n",
        "\n",
        "    x = MaxPooling2D()(block_2_out)                                        # Добавляем слой MaxPooling2D\n",
        "\n",
        "    # Block 3\n",
        "    x = Conv2D(256, (3, 3), padding='same', name='block3_conv1')(x)        # Добавляем Conv2D-слой с 256-нейронами\n",
        "    x = BatchNormalization()(x)                                            # Добавляем слой BatchNormalization\n",
        "    x = Activation('relu')(x)                                              # Добавляем слой Activation\n",
        "\n",
        "    x = Conv2D(256, (3, 3), padding='same', name='block3_conv2')(x)        # Добавляем Conv2D-слой с 256-нейронами\n",
        "    x = BatchNormalization()(x)                                            # Добавляем слой BatchNormalization\n",
        "    x = Activation('relu')(x)                                              # Добавляем слой Activation\n",
        "\n",
        "    x = Conv2D(256, (3, 3), padding='same', name='block3_conv3')(x)        # Добавляем Conv2D-слой с 256-нейронами\n",
        "    x = BatchNormalization()(x)                                            # Добавляем слой BatchNormalization\n",
        "    block_3_out = Activation('relu')(x)                                    # Добавляем слой Activation и запоминаем в переменной block_3_out\n",
        "\n",
        "    x = MaxPooling2D()(block_3_out)                                        # Добавляем слой MaxPooling2D\n",
        "\n",
        "    # Block 4\n",
        "    x = Conv2D(512, (3, 3), padding='same', name='block4_conv1')(x)        # Добавляем Conv2D-слой с 512-нейронами\n",
        "    x = BatchNormalization()(x)                                            # Добавляем слой BatchNormalization\n",
        "    x = Activation('relu')(x)                                              # Добавляем слой Activation\n",
        "\n",
        "    x = Conv2D(512, (3, 3), padding='same', name='block4_conv2')(x)        # Добавляем Conv2D-слой с 256-нейронами\n",
        "    x = BatchNormalization()(x)                                            # Добавляем слой BatchNormalization\n",
        "    x = Activation('relu')(x)                                              # Добавляем слой Activation\n",
        "\n",
        "    x = Conv2D(512, (3, 3), padding='same', name='block4_conv3')(x)        # Добавляем Conv2D-слой с 256-нейронами\n",
        "    x = BatchNormalization()(x)                                            # Добавляем слой BatchNormalization\n",
        "    block_4_out = Activation('relu')(x)                                    # Добавляем слой Activation и запоминаем в переменной block_4_out\n",
        "    x = block_4_out \n",
        "\n",
        "    # UP 2\n",
        "    x = Conv2DTranspose(256, (2, 2), strides=(2, 2), padding='same')(x)    # Добавляем слой Conv2DTranspose с 256 нейронами\n",
        "    x = BatchNormalization()(x)                                            # Добавляем слой BatchNormalization\n",
        "    x = Activation('relu')(x)                                              # Добавляем слой Activation\n",
        "\n",
        "    x = concatenate([x, block_3_out])                                      # Объединем текущий слой со слоем block_3_out\n",
        "    x = Conv2D(256, (3, 3), padding='same')(x)                             # Добавляем слой Conv2D с 256 нейронами\n",
        "    x = BatchNormalization()(x)                                            # Добавляем слой BatchNormalization\n",
        "    x = Activation('relu')(x)                                              # Добавляем слой Activation\n",
        "\n",
        "    x = Conv2D(256, (3, 3), padding='same')(x)\n",
        "    x = BatchNormalization()(x)                                            # Добавляем слой BatchNormalization\n",
        "    x = Activation('relu')(x)                                              # Добавляем слой Activation\n",
        "\n",
        "    # UP 3\n",
        "    x = Conv2DTranspose(128, (2, 2), strides=(2, 2), padding='same')(x)    # Добавляем слой Conv2DTranspose с 128 нейронами\n",
        "    x = BatchNormalization()(x)                                            # Добавляем слой BatchNormalization\n",
        "    x = Activation('relu')(x)                                              # Добавляем слой Activation\n",
        "\n",
        "    x = concatenate([x, block_2_out])                                      # Объединем текущий слой со слоем block_2_out\n",
        "    x = Conv2D(128, (3, 3), padding='same')(x)                             # Добавляем слой Conv2D с 128 нейронами\n",
        "    x = BatchNormalization()(x)                                            # Добавляем слой BatchNormalization\n",
        "    x = Activation('relu')(x)                                              # Добавляем слой Activation\n",
        "\n",
        "    x = Conv2D(128, (3, 3), padding='same')(x) # Добавляем слой Conv2D с 128 нейронами\n",
        "    x = BatchNormalization()(x) # Добавляем слой BatchNormalization\n",
        "    x = Activation('relu')(x) # Добавляем слой Activation\n",
        "\n",
        "    # UP 4\n",
        "    x = Conv2DTranspose(64, (2, 2), strides=(2, 2), padding='same')(x) # Добавляем слой Conv2DTranspose с 64 нейронами\n",
        "    x = BatchNormalization()(x) # Добавляем слой BatchNormalization\n",
        "    x = Activation('relu')(x) # Добавляем слой Activation\n",
        "\n",
        "    x = concatenate([x, block_1_out])  # Объединем текущий слой со слоем block_1_out\n",
        "    x = Conv2D(64, (3, 3), padding='same')(x) # Добавляем слой Conv2D с 64 нейронами\n",
        "    x = BatchNormalization()(x) # Добавляем слой BatchNormalization\n",
        "    x = Activation('relu')(x) # Добавляем слой Activation\n",
        "\n",
        "    x = Conv2D(64, (3, 3), padding='same')(x) # Добавляем слой Conv2D с 64 нейронами\n",
        "    x = BatchNormalization()(x) # Добавляем слой BatchNormalization\n",
        "    x = Activation('relu')(x) # Добавляем слой Activation\n",
        "\n",
        "    x = Conv2D(num_classes, (3, 3), activation='softmax', padding='same')(x)  # Добавляем Conv2D-Слой с softmax-активацией на num_classes-нейронов\n",
        "\n",
        "    model = Model(img_input, x) # Создаем модель с входом 'img_input' и выходом 'x'\n",
        "\n",
        "    # Компилируем модель \n",
        "    model.compile(optimizer=Adam(),\n",
        "                  loss='categorical_crossentropy',\n",
        "                  metrics=[dice_coef])\n",
        "    \n",
        "    return model # Возвращаем сформированную модель"
      ],
      "execution_count": 18,
      "outputs": []
    },
    {
      "cell_type": "code",
      "metadata": {
        "id": "yFVeHM71egmx",
        "colab_type": "code",
        "colab": {
          "base_uri": "https://localhost:8080/",
          "height": 390
        },
        "outputId": "80f6b314-d76d-4a29-8090-c982012764eb"
      },
      "source": [
        "modelUnet = unet(2, (img_width, img_height, 3)) # Создаем модель unet\n",
        "history = modelUnet.fit(X, Y,\n",
        "                        epochs = 10,\n",
        "                        batch_size=32,\n",
        "                        validation_split = 0.2)"
      ],
      "execution_count": 20,
      "outputs": [
        {
          "output_type": "stream",
          "text": [
            "Epoch 1/10\n",
            "  2/252 [..............................] - ETA: 3:27 - loss: 0.8795 - dice_coef: 0.5417WARNING:tensorflow:Callbacks method `on_train_batch_end` is slow compared to the batch time (batch time: 0.5811s vs `on_train_batch_end` time: 1.0679s). Check your callbacks.\n",
            "252/252 [==============================] - 463s 2s/step - loss: 0.6232 - dice_coef: 0.5761 - val_loss: 1.9476 - val_dice_coef: 0.5072\n",
            "Epoch 2/10\n",
            "252/252 [==============================] - 451s 2s/step - loss: 0.6094 - dice_coef: 0.5830 - val_loss: 1.0302 - val_dice_coef: 0.4880\n",
            "Epoch 3/10\n",
            "252/252 [==============================] - 450s 2s/step - loss: 0.5962 - dice_coef: 0.5941 - val_loss: 0.6175 - val_dice_coef: 0.6113\n",
            "Epoch 4/10\n",
            "252/252 [==============================] - 449s 2s/step - loss: 0.5931 - dice_coef: 0.5966 - val_loss: 0.6005 - val_dice_coef: 0.5906\n",
            "Epoch 5/10\n",
            "252/252 [==============================] - 449s 2s/step - loss: 0.5915 - dice_coef: 0.5982 - val_loss: 0.6857 - val_dice_coef: 0.5918\n",
            "Epoch 6/10\n",
            "252/252 [==============================] - 448s 2s/step - loss: 0.5910 - dice_coef: 0.5984 - val_loss: 0.6050 - val_dice_coef: 0.6000\n",
            "Epoch 7/10\n",
            "252/252 [==============================] - 450s 2s/step - loss: 0.5906 - dice_coef: 0.5986 - val_loss: 0.6117 - val_dice_coef: 0.5997\n",
            "Epoch 8/10\n",
            "252/252 [==============================] - 451s 2s/step - loss: 0.5904 - dice_coef: 0.5991 - val_loss: 0.6220 - val_dice_coef: 0.5806\n",
            "Epoch 9/10\n",
            "252/252 [==============================] - 449s 2s/step - loss: 0.5891 - dice_coef: 0.5992 - val_loss: 0.5950 - val_dice_coef: 0.5935\n",
            "Epoch 10/10\n",
            "252/252 [==============================] - 450s 2s/step - loss: 0.5881 - dice_coef: 0.5994 - val_loss: 0.5964 - val_dice_coef: 0.5994\n"
          ],
          "name": "stdout"
        }
      ]
    },
    {
      "cell_type": "code",
      "metadata": {
        "id": "fugeOgI3irdH",
        "colab_type": "code",
        "colab": {
          "base_uri": "https://localhost:8080/",
          "height": 279
        },
        "outputId": "cd1044ee-60fb-4c91-cda5-d7ba01fab8c6"
      },
      "source": [
        "plt.plot(history.history['dice_coef'], \n",
        "         label='Доля верных ответов на обучающем наборе')\n",
        "plt.plot(history.history['val_dice_coef'], \n",
        "         label='Доля верных ответов на проверочном наборе')\n",
        "plt.xlabel('Эпоха обучения')\n",
        "plt.ylabel('Доля верных ответов')\n",
        "plt.legend()\n",
        "plt.show()"
      ],
      "execution_count": 21,
      "outputs": [
        {
          "output_type": "display_data",
          "data": {
            "image/png": "[encoded data removed]",
            "text/plain": [
              "<Figure size 432x288 with 1 Axes>"
            ]
          },
          "metadata": {
            "tags": [],
            "needs_background": "light"
          }
        }
      ]
    },
    {
      "cell_type": "markdown",
      "metadata": {
        "id": "WfahNU-0YfLc",
        "colab_type": "text"
      },
      "source": [
        "## LinkNet"
      ]
    },
    {
      "cell_type": "code",
      "metadata": {
        "id": "sVMAOy1jY7Dc",
        "colab_type": "code",
        "colab": {}
      },
      "source": [
        "def linkNet(num_classes = 2, input_shape = (21, 21, 21)) :\n",
        "  img = Input(input_shape)\n",
        "  x = Conv2D(64, (3, 3), padding = 'same', activation = 'relu')(img)\n",
        "  x = Conv2D(64, (3, 3), padding = 'same', activation = 'relu')(x)\n",
        "  x = BatchNormalization()(x)\n",
        "  out1 = x\n",
        "  x = MaxPooling2D()(out1)\n",
        "  \n",
        "  x = Conv2D(128, (3, 3), padding = 'same', activation = 'relu')(x)\n",
        "  x = Conv2D(128, (3, 3), padding = 'same', activation = 'relu')(x)\n",
        "  x = BatchNormalization()(x)\n",
        "  out2 = x\n",
        "  x = MaxPooling2D()(out2)\n",
        "\n",
        "  x = Conv2D(256, (3, 3), padding = 'same', activation = 'relu')(x)\n",
        "  x = Conv2D(256, (3, 3), padding = 'same', activation = 'relu')(x)\n",
        "  x = BatchNormalization()(x)\n",
        "  out3 = x\n",
        "  x = MaxPooling2D()(out3)\n",
        "\n",
        "  x = Conv2D(512, (3, 3), padding = 'same', activation = 'relu')(x)\n",
        "  x = Conv2D(512, (3, 3), padding = 'same', activation = 'relu')(x)\n",
        "  x = BatchNormalization()(x)\n",
        "  \n",
        "  x = Conv2DTranspose(256, (2, 2), strides = (2, 2), padding = 'same', activation = 'relu')(x)\n",
        "  x = BatchNormalization()(x)\n",
        "  x = Add()([x, out3])\n",
        "  x = Conv2D(256, (3, 3), padding = 'same', activation = 'relu')(x)\n",
        "  x = Conv2D(256, (3, 3), padding = 'same', activation = 'relu')(x)\n",
        "  x = BatchNormalization()(x)\n",
        "\n",
        "  x = Conv2DTranspose(128, (2, 2), strides = (2, 2), padding = 'same', activation = 'relu')(x)\n",
        "  x = BatchNormalization()(x)\n",
        "  x = Add()([x, out2])\n",
        "  x = Conv2D(128, (3, 3), padding = 'same', activation = 'relu')(x)\n",
        "  x = Conv2D(128, (3, 3), padding = 'same', activation = 'relu')(x)\n",
        "  x = BatchNormalization()(x)\n",
        "\n",
        "  x = Conv2DTranspose(64, (2, 2), strides = (2, 2), padding = 'same', activation = 'relu')(x)\n",
        "  x = BatchNormalization()(x)\n",
        "  x = Add()([x, out1])\n",
        "  x = Conv2D(64, (3, 3), padding = 'same', activation = 'relu')(x)\n",
        "  x = Conv2D(64, (3, 3), padding = 'same', activation = 'relu')(x)\n",
        "  x = BatchNormalization()(x)\n",
        "\n",
        "  x = Conv2D(num_classes, (3, 3), padding = 'same', activation = 'softmax')(x)\n",
        "  model = Model(img, x) \n",
        "\n",
        "  model.compile(optimizer=Adam(),\n",
        "                loss='categorical_crossentropy',\n",
        "                metrics=[dice_coef])  \n",
        "  return model"
      ],
      "execution_count": 22,
      "outputs": []
    },
    {
      "cell_type": "code",
      "metadata": {
        "id": "eKlPORhOcz7N",
        "colab_type": "code",
        "colab": {
          "base_uri": "https://localhost:8080/",
          "height": 390
        },
        "outputId": "daac4fa6-125a-45b3-c79c-59c63a2420ac"
      },
      "source": [
        "modelLinkNet = linkNet(2, (img_width, img_height, 3)) # Создаем модель unet\n",
        "history = modelLinkNet.fit(X, Y,\n",
        "                        epochs = 10, \n",
        "                        batch_size=32,\n",
        "                        validation_split = 0.2)"
      ],
      "execution_count": 23,
      "outputs": [
        {
          "output_type": "stream",
          "text": [
            "Epoch 1/10\n",
            "  2/252 [..............................] - ETA: 4:20 - loss: 1.0644 - dice_coef: 0.5051WARNING:tensorflow:Callbacks method `on_train_batch_end` is slow compared to the batch time (batch time: 0.4071s vs `on_train_batch_end` time: 0.8350s). Check your callbacks.\n",
            "252/252 [==============================] - 340s 1s/step - loss: 0.6147 - dice_coef: 0.5800 - val_loss: 0.6112 - val_dice_coef: 0.6039\n",
            "Epoch 2/10\n",
            "252/252 [==============================] - 335s 1s/step - loss: 0.5930 - dice_coef: 0.5962 - val_loss: 0.6018 - val_dice_coef: 0.5949\n",
            "Epoch 3/10\n",
            "252/252 [==============================] - 336s 1s/step - loss: 0.5907 - dice_coef: 0.5975 - val_loss: 0.5989 - val_dice_coef: 0.5959\n",
            "Epoch 4/10\n",
            "252/252 [==============================] - 336s 1s/step - loss: 0.5905 - dice_coef: 0.5975 - val_loss: 0.5983 - val_dice_coef: 0.5970\n",
            "Epoch 5/10\n",
            "252/252 [==============================] - 336s 1s/step - loss: 0.5918 - dice_coef: 0.5967 - val_loss: 0.6010 - val_dice_coef: 0.5981\n",
            "Epoch 6/10\n",
            "252/252 [==============================] - 334s 1s/step - loss: 0.5897 - dice_coef: 0.5985 - val_loss: 0.5975 - val_dice_coef: 0.5918\n",
            "Epoch 7/10\n",
            "252/252 [==============================] - 336s 1s/step - loss: 0.5927 - dice_coef: 0.5968 - val_loss: 0.6085 - val_dice_coef: 0.6048\n",
            "Epoch 8/10\n",
            "252/252 [==============================] - 337s 1s/step - loss: 0.5905 - dice_coef: 0.5976 - val_loss: 0.5973 - val_dice_coef: 0.5905\n",
            "Epoch 9/10\n",
            "252/252 [==============================] - 337s 1s/step - loss: 0.5895 - dice_coef: 0.5981 - val_loss: 0.6105 - val_dice_coef: 0.5764\n",
            "Epoch 10/10\n",
            "252/252 [==============================] - 337s 1s/step - loss: 0.5893 - dice_coef: 0.5980 - val_loss: 0.5998 - val_dice_coef: 0.5955\n"
          ],
          "name": "stdout"
        }
      ]
    },
    {
      "cell_type": "code",
      "metadata": {
        "id": "n3079yt1dBrF",
        "colab_type": "code",
        "colab": {
          "base_uri": "https://localhost:8080/",
          "height": 279
        },
        "outputId": "09dbf8c7-02e0-4738-dd11-d10a32c2ef50"
      },
      "source": [
        "plt.plot(history.history['dice_coef'], \n",
        "         label='Доля верных ответов на обучающем наборе')\n",
        "plt.plot(history.history['val_dice_coef'], \n",
        "         label='Доля верных ответов на проверочном наборе')\n",
        "plt.xlabel('Эпоха обучения')\n",
        "plt.ylabel('Доля верных ответов')\n",
        "plt.legend()\n",
        "plt.show()"
      ],
      "execution_count": 24,
      "outputs": [
        {
          "output_type": "display_data",
          "data": {
            "image/png": "[encoded data removed]",
            "text/plain": [
              "<Figure size 432x288 with 1 Axes>"
            ]
          },
          "metadata": {
            "tags": [],
            "needs_background": "light"
          }
        }
      ]
    },
    {
      "cell_type": "markdown",
      "metadata": {
        "id": "Gabj2n-6ddAs",
        "colab_type": "text"
      },
      "source": [
        "## PSPNet"
      ]
    },
    {
      "cell_type": "code",
      "metadata": {
        "id": "T5sb042Ndfib",
        "colab_type": "code",
        "colab": {}
      },
      "source": [
        "def PSPNet(num_classes = 2, input_shape = (21, 21, 21)) :\n",
        "  img = Input(input_shape)\n",
        "  x = Conv2D(64, (3, 3), padding = 'same', activation = 'relu')(img)\n",
        "  x = Conv2D(64, (3, 3), padding = 'same', activation = 'relu')(x)\n",
        "  x = BatchNormalization()(x)\n",
        "  block_outs = [i for i in range(4)]\n",
        "  for i in range(4):\n",
        "    block_outs[i] = MaxPooling2D((2 ** (i + 1), 2 ** (i + 1)))(x)\n",
        "  for i in range(4):\n",
        "    block_outs[i] = Conv2D(128, (3, 3), padding = 'same', activation = 'relu')(block_outs[i])\n",
        "    block_outs[i] = Conv2D(128, (3, 3), padding = 'same', activation = 'relu')(block_outs[i])\n",
        "  for i in range(4):\n",
        "    block_outs[i] = Conv2DTranspose(64, (3, 3), strides = (2 ** (i + 1), 2 ** (i + 1)), padding = 'same', activation = 'relu')(block_outs[i])\n",
        "  x = concatenate(block_outs)\n",
        "  x = Conv2D(num_classes, (3, 3), padding = 'same', activation = 'softmax')(x)\n",
        "  model = Model(img, x) \n",
        "\n",
        "  model.compile(optimizer=Adam(),\n",
        "                loss='categorical_crossentropy',\n",
        "                metrics=[dice_coef])  \n",
        "  return model"
      ],
      "execution_count": 14,
      "outputs": []
    },
    {
      "cell_type": "code",
      "metadata": {
        "id": "DFZSgL4MfTAs",
        "colab_type": "code",
        "colab": {
          "base_uri": "https://localhost:8080/",
          "height": 390
        },
        "outputId": "b5e8b832-dbd3-4ba1-b597-6bffccbbe38a"
      },
      "source": [
        "modelPSPNet = PSPNet(2, (img_width, img_height, 3)) # Создаем модель unet\n",
        "history = modelPSPNet.fit(X, Y,\n",
        "                        epochs = 10, \n",
        "                        batch_size=32,\n",
        "                        validation_split = 0.2)"
      ],
      "execution_count": 15,
      "outputs": [
        {
          "output_type": "stream",
          "text": [
            "Epoch 1/10\n",
            "  2/252 [..............................] - ETA: 1:49 - loss: 0.6782 - dice_coef: 0.5240WARNING:tensorflow:Callbacks method `on_train_batch_end` is slow compared to the batch time (batch time: 0.3460s vs `on_train_batch_end` time: 0.5200s). Check your callbacks.\n",
            "252/252 [==============================] - 239s 947ms/step - loss: 0.6080 - dice_coef: 0.5825 - val_loss: 0.6130 - val_dice_coef: 0.5707\n",
            "Epoch 2/10\n",
            "252/252 [==============================] - 232s 920ms/step - loss: 0.6040 - dice_coef: 0.5854 - val_loss: 0.6100 - val_dice_coef: 0.5758\n",
            "Epoch 3/10\n",
            "252/252 [==============================] - 232s 919ms/step - loss: 0.6024 - dice_coef: 0.5865 - val_loss: 0.6126 - val_dice_coef: 0.5697\n",
            "Epoch 4/10\n",
            "252/252 [==============================] - 231s 917ms/step - loss: 0.6028 - dice_coef: 0.5862 - val_loss: 0.6099 - val_dice_coef: 0.5863\n",
            "Epoch 5/10\n",
            "252/252 [==============================] - 231s 916ms/step - loss: 0.6030 - dice_coef: 0.5867 - val_loss: 0.6110 - val_dice_coef: 0.5694\n",
            "Epoch 6/10\n",
            "252/252 [==============================] - 231s 915ms/step - loss: 0.6028 - dice_coef: 0.5861 - val_loss: 0.6093 - val_dice_coef: 0.5844\n",
            "Epoch 7/10\n",
            "252/252 [==============================] - 231s 915ms/step - loss: 0.6020 - dice_coef: 0.5867 - val_loss: 0.6091 - val_dice_coef: 0.5822\n",
            "Epoch 8/10\n",
            "252/252 [==============================] - 231s 916ms/step - loss: 0.6019 - dice_coef: 0.5866 - val_loss: 0.6122 - val_dice_coef: 0.5943\n",
            "Epoch 9/10\n",
            "252/252 [==============================] - 231s 916ms/step - loss: 0.6025 - dice_coef: 0.5869 - val_loss: 0.6094 - val_dice_coef: 0.5847\n",
            "Epoch 10/10\n",
            "252/252 [==============================] - 231s 915ms/step - loss: 0.6026 - dice_coef: 0.5861 - val_loss: 0.6091 - val_dice_coef: 0.5806\n"
          ],
          "name": "stdout"
        }
      ]
    },
    {
      "cell_type": "code",
      "metadata": {
        "id": "pzib7SulfZOR",
        "colab_type": "code",
        "colab": {
          "base_uri": "https://localhost:8080/",
          "height": 279
        },
        "outputId": "6242084b-d129-4dd8-f806-e0380aaa3e86"
      },
      "source": [
        "plt.plot(history.history['dice_coef'], \n",
        "         label='Доля верных ответов на обучающем наборе')\n",
        "plt.plot(history.history['val_dice_coef'], \n",
        "         label='Доля верных ответов на проверочном наборе')\n",
        "plt.xlabel('Эпоха обучения')\n",
        "plt.ylabel('Доля верных ответов')\n",
        "plt.legend()\n",
        "plt.show()"
      ],
      "execution_count": 16,
      "outputs": [
        {
          "output_type": "display_data",
          "data": {
            "image/png": "[encoded data removed]",
            "text/plain": [
              "<Figure size 432x288 with 1 Axes>"
            ]
          },
          "metadata": {
            "tags": [],
            "needs_background": "light"
          }
        }
      ]
    },
    {
      "cell_type": "code",
      "metadata": {
        "id": "fR9E5flsvnO1",
        "colab_type": "code",
        "colab": {}
      },
      "source": [
        ""
      ],
      "execution_count": null,
      "outputs": []
    }
  ]
}